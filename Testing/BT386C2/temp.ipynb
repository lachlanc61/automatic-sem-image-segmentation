{
 "cells": [
  {
   "cell_type": "code",
   "execution_count": 2,
   "metadata": {},
   "outputs": [],
   "source": [
    "#to be run in Input_Masks directory\n",
    "\n",
    "import numpy as np\n",
    "import os\n",
    "from PIL import Image"
   ]
  },
  {
   "cell_type": "code",
   "execution_count": 3,
   "metadata": {},
   "outputs": [],
   "source": [
    "flist = os.listdir('.')\n",
    "\n",
    "file='./BT386C200017-13.tif'\n",
    "\n",
    "image=np.asarray(Image.open(file), dtype='float32')"
   ]
  },
  {
   "cell_type": "code",
   "execution_count": 69,
   "metadata": {},
   "outputs": [],
   "source": [
    "max_image_height=91\n",
    "max_image_width=104"
   ]
  },
  {
   "cell_type": "code",
   "execution_count": 52,
   "metadata": {},
   "outputs": [],
   "source": [
    "def padsplit(topad: int):\n",
    "    if (topad%2 == 0):\n",
    "        d1=int(round(topad/2))\n",
    "        d2=int(topad/2)\n",
    "    else:\n",
    "        d1=int(round(topad/2))\n",
    "        d2=topad-d1\n",
    "    return d1, d2\n"
   ]
  },
  {
   "cell_type": "code",
   "execution_count": 70,
   "metadata": {},
   "outputs": [
    {
     "name": "stdout",
     "output_type": "stream",
     "text": [
      "False\n",
      "0,0,0,0\n",
      "(91, 104)\n"
     ]
    },
    {
     "data": {
      "text/plain": [
       "(91, 104)"
      ]
     },
     "execution_count": 70,
     "metadata": {},
     "output_type": "execute_result"
    }
   ],
   "source": [
    "print(image.shape[0] < max_image_height or image.shape[1] < max_image_width)\n",
    "\n",
    "h1, h2 = padsplit(max_image_height-image.shape[0])\n",
    "w1, w2 = padsplit(max_image_width-image.shape[1])\n",
    "\n",
    "print(f\"{h1},{h2},{w1},{w2}\")\n",
    "\n",
    "padimage=np.pad(image, [(h1,h2),(w1,w2)], mode='constant')\n",
    "\n",
    "print(image.shape)\n",
    "padimage.shape"
   ]
  },
  {
   "cell_type": "code",
   "execution_count": 38,
   "metadata": {},
   "outputs": [
    {
     "data": {
      "text/plain": [
       "0"
      ]
     },
     "execution_count": 38,
     "metadata": {},
     "output_type": "execute_result"
    }
   ],
   "source": [
    "(100%2)"
   ]
  }
 ],
 "metadata": {
  "kernelspec": {
   "display_name": "Python 3.10.6 64-bit ('venv_semseg')",
   "language": "python",
   "name": "python3"
  },
  "language_info": {
   "codemirror_mode": {
    "name": "ipython",
    "version": 3
   },
   "file_extension": ".py",
   "mimetype": "text/x-python",
   "name": "python",
   "nbconvert_exporter": "python",
   "pygments_lexer": "ipython3",
   "version": "3.10.6"
  },
  "orig_nbformat": 4,
  "vscode": {
   "interpreter": {
    "hash": "28f0d62931378f1fa28e42c5845674a80968955256feb91d29ddeb4e6563cf0e"
   }
  }
 },
 "nbformat": 4,
 "nbformat_minor": 2
}
