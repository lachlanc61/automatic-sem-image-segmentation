{
 "cells": [
  {
   "cell_type": "code",
   "execution_count": 82,
   "metadata": {},
   "outputs": [],
   "source": [
    "#to be run in Input_Masks directory\n",
    "import numpy as np\n",
    "import os\n",
    "from PIL import Image\n",
    "\n",
    "ROOT_DIR='/home/lachlan/CODEBASE/SEM_segmentation/Testing/BT386C2'\n",
    "BG_DIR='Input_Backgrounds'\n",
    "IMG_DIR='Input_Images'\n",
    "SINGLE_DIR='Input_Singles'\n",
    "\n",
    "bgdir=os.path.join(ROOT_DIR, BG_DIR)\n",
    "singledir=os.path.join(ROOT_DIR, SINGLE_DIR)\n",
    "rawdir=os.path.join(ROOT_DIR, IMG_DIR)\n"
   ]
  },
  {
   "cell_type": "code",
   "execution_count": 84,
   "metadata": {},
   "outputs": [
    {
     "name": "stdout",
     "output_type": "stream",
     "text": [
      "127.5\n",
      "RAW\n",
      "255.0\n",
      "98.47796\n",
      "BG\n",
      "115.09524\n",
      "120.84999961853028\n",
      "SINGLES\n",
      "121.85714\n",
      "114.78571\n",
      "136.14285\n",
      "152.57143\n",
      "167.35715\n",
      "255.0\n"
     ]
    }
   ],
   "source": [
    "print(255/2)\n",
    "\n",
    "def calc(img):\n",
    "    out=np.reshape(img, -1)\n",
    "    #print(out, out.shape, np.max(out))\n",
    "    nmax=int(len(out)*0.001)\n",
    "    #print(f\"nmax: {nmax}\")\n",
    "    indices = np.argsort(out)\n",
    "    out=out[indices]\n",
    "    #print(out, out.shape)\n",
    "    out = out[-nmax : ]\n",
    "    #print(out, out.shape)\n",
    "    return np.mean(out)\n",
    "\n",
    "def extractimg(dir):\n",
    "    flist = os.listdir(dir)\n",
    "    fname = flist[0]\n",
    "    file=os.path.join(dir, fname)\n",
    "    img=np.asarray(Image.open(file), dtype='float32')\n",
    "\n",
    "    return img\n",
    "\n",
    "rawimg=extractimg(rawdir)\n",
    "print(\"RAW\")\n",
    "print(calc(rawimg))\n",
    "print(np.mean(rawimg))\n",
    "\n",
    "bgimg=extractimg(bgdir)\n",
    "print(\"BG\")\n",
    "bgresult=calc(bgimg)\n",
    "print(bgresult)\n",
    "print(bgresult*1.05)\n",
    "\n",
    "print(\"SINGLES\")\n",
    "for file in sorted(os.listdir(singledir)):\n",
    "    file=os.path.join(singledir, file)\n",
    "    simg=np.asarray(Image.open(file), dtype='float32')\n",
    "    print(calc(simg))\n",
    "\n",
    "\n"
   ]
  }
 ],
 "metadata": {
  "kernelspec": {
   "display_name": "Python 3.10.6 64-bit ('venv_semseg')",
   "language": "python",
   "name": "python3"
  },
  "language_info": {
   "codemirror_mode": {
    "name": "ipython",
    "version": 3
   },
   "file_extension": ".py",
   "mimetype": "text/x-python",
   "name": "python",
   "nbconvert_exporter": "python",
   "pygments_lexer": "ipython3",
   "version": "3.10.6"
  },
  "orig_nbformat": 4,
  "vscode": {
   "interpreter": {
    "hash": "28f0d62931378f1fa28e42c5845674a80968955256feb91d29ddeb4e6563cf0e"
   }
  }
 },
 "nbformat": 4,
 "nbformat_minor": 2
}
